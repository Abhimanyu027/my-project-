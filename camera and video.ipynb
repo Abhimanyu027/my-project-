{
 "cells": [
  {
   "cell_type": "code",
   "execution_count": 7,
   "id": "c0cd1739-f9db-452f-a086-71088d6cd443",
   "metadata": {},
   "outputs": [],
   "source": [
    "import cv2"
   ]
  },
  {
   "cell_type": "code",
   "execution_count": 9,
   "id": "05a1f6c1-9bda-491e-8bd8-d28c23269af4",
   "metadata": {},
   "outputs": [],
   "source": [
    "cap = cv2.VideoCapture(0)"
   ]
  },
  {
   "cell_type": "code",
   "execution_count": 81,
   "id": "9da22673-93d9-41fc-ae61-31e0e2bca399",
   "metadata": {},
   "outputs": [],
   "source": [
    "status , photo = cap.read()"
   ]
  },
  {
   "cell_type": "code",
   "execution_count": 83,
   "id": "af66205b-00a8-41b7-bd09-f8f4a1d037f0",
   "metadata": {},
   "outputs": [
    {
     "data": {
      "text/plain": [
       "True"
      ]
     },
     "execution_count": 83,
     "metadata": {},
     "output_type": "execute_result"
    }
   ],
   "source": [
    "status"
   ]
  },
  {
   "cell_type": "code",
   "execution_count": 85,
   "id": "087fe556-70a4-45b7-804e-3b1dbcb38b9c",
   "metadata": {},
   "outputs": [
    {
     "data": {
      "text/plain": [
       "True"
      ]
     },
     "execution_count": 85,
     "metadata": {},
     "output_type": "execute_result"
    }
   ],
   "source": [
    "cv2.imwrite(\"abhi.png\",photo)"
   ]
  },
  {
   "cell_type": "code",
   "execution_count": 11,
   "id": "9e27f16d-5151-4dc2-970e-c261fa5ee231",
   "metadata": {},
   "outputs": [],
   "source": [
    "while True:\n",
    "    status , photo = cap.read()\n",
    "    cv2.imshow(\"my photo\",photo)\n",
    "    if cv2.waitKey(50) == 13:\n",
    "       break\n",
    "\n",
    "\n",
    "cv2.destroyAllWindows()"
   ]
  },
  {
   "cell_type": "code",
   "execution_count": 89,
   "id": "7aa12976-be16-4a15-bfdc-f116095c072d",
   "metadata": {},
   "outputs": [
    {
     "data": {
      "text/plain": [
       "array([ 72, 107, 110], dtype=uint8)"
      ]
     },
     "execution_count": 89,
     "metadata": {},
     "output_type": "execute_result"
    }
   ],
   "source": [
    "photo[0,0]"
   ]
  },
  {
   "cell_type": "code",
   "execution_count": 12,
   "id": "e9c491d8-6336-4ab1-8a95-6a07221c24b5",
   "metadata": {},
   "outputs": [],
   "source": [
    "while True:\n",
    "    status, photo = cap.read()\n",
    "    if not status:\n",
    "        break\n",
    "    \n",
    "    # Resize the second video (scaled down version)\n",
    "    small_photo = cv2.resize(photo, (photo.shape[1]//2, photo.shape[0]//2))  # Half the size\n",
    "\n",
    "    # Place the smaller video inside the larger one (at top-left corner)\n",
    "    photo[0:small_photo.shape[0], 0:small_photo.shape[1]] = small_photo\n",
    "\n",
    "    cv2.imshow(\"Dual View\", photo)\n",
    "    \n",
    "    if cv2.waitKey(100) == 13:  # Press 'Enter' to exit\n",
    "        break\n",
    "\n",
    "cv2.destroyAllWindows()\n",
    "cap.release()"
   ]
  },
  {
   "cell_type": "code",
   "execution_count": 121,
   "id": "a23cbe99-577d-4ed6-a2ef-e1f36d40c957",
   "metadata": {},
   "outputs": [],
   "source": [
    "cap.release()"
   ]
  },
  {
   "cell_type": "code",
   "execution_count": null,
   "id": "b6fd9470-f7c3-4fde-853c-8c1f9318c880",
   "metadata": {},
   "outputs": [],
   "source": []
  }
 ],
 "metadata": {
  "kernelspec": {
   "display_name": "Python 3 (ipykernel)",
   "language": "python",
   "name": "python3"
  },
  "language_info": {
   "codemirror_mode": {
    "name": "ipython",
    "version": 3
   },
   "file_extension": ".py",
   "mimetype": "text/x-python",
   "name": "python",
   "nbconvert_exporter": "python",
   "pygments_lexer": "ipython3",
   "version": "3.12.4"
  }
 },
 "nbformat": 4,
 "nbformat_minor": 5
}
